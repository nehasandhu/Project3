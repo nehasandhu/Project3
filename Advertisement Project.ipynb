{
 "cells": [
  {
   "cell_type": "code",
   "execution_count": 12,
   "id": "21eea2f5",
   "metadata": {},
   "outputs": [],
   "source": [
    "import pandas as pd\n",
    "import numpy as np\n",
    "\n",
    "\n"
   ]
  },
  {
   "cell_type": "code",
   "execution_count": 13,
   "id": "4024298f",
   "metadata": {},
   "outputs": [],
   "source": [
    "df= pd.read_csv(\"Adv.csv\")"
   ]
  },
  {
   "cell_type": "code",
   "execution_count": 14,
   "id": "73e57c48",
   "metadata": {},
   "outputs": [
    {
     "data": {
      "text/plain": [
       "Index(['Unnamed: 0', 'TV', 'radio', 'newspaper', 'sales'], dtype='object')"
      ]
     },
     "execution_count": 14,
     "metadata": {},
     "output_type": "execute_result"
    }
   ],
   "source": [
    "df.columns"
   ]
  },
  {
   "cell_type": "code",
   "execution_count": 15,
   "id": "cc501939",
   "metadata": {},
   "outputs": [
    {
     "data": {
      "text/html": [
       "<div>\n",
       "<style scoped>\n",
       "    .dataframe tbody tr th:only-of-type {\n",
       "        vertical-align: middle;\n",
       "    }\n",
       "\n",
       "    .dataframe tbody tr th {\n",
       "        vertical-align: top;\n",
       "    }\n",
       "\n",
       "    .dataframe thead th {\n",
       "        text-align: right;\n",
       "    }\n",
       "</style>\n",
       "<table border=\"1\" class=\"dataframe\">\n",
       "  <thead>\n",
       "    <tr style=\"text-align: right;\">\n",
       "      <th></th>\n",
       "      <th>Unnamed: 0</th>\n",
       "      <th>TV</th>\n",
       "      <th>radio</th>\n",
       "      <th>newspaper</th>\n",
       "      <th>sales</th>\n",
       "    </tr>\n",
       "  </thead>\n",
       "  <tbody>\n",
       "    <tr>\n",
       "      <th>0</th>\n",
       "      <td>1</td>\n",
       "      <td>230.1</td>\n",
       "      <td>37.8</td>\n",
       "      <td>69.2</td>\n",
       "      <td>22.1</td>\n",
       "    </tr>\n",
       "    <tr>\n",
       "      <th>1</th>\n",
       "      <td>2</td>\n",
       "      <td>44.5</td>\n",
       "      <td>39.3</td>\n",
       "      <td>45.1</td>\n",
       "      <td>10.4</td>\n",
       "    </tr>\n",
       "    <tr>\n",
       "      <th>2</th>\n",
       "      <td>3</td>\n",
       "      <td>17.2</td>\n",
       "      <td>45.9</td>\n",
       "      <td>69.3</td>\n",
       "      <td>9.3</td>\n",
       "    </tr>\n",
       "    <tr>\n",
       "      <th>3</th>\n",
       "      <td>4</td>\n",
       "      <td>151.5</td>\n",
       "      <td>41.3</td>\n",
       "      <td>58.5</td>\n",
       "      <td>18.5</td>\n",
       "    </tr>\n",
       "    <tr>\n",
       "      <th>4</th>\n",
       "      <td>5</td>\n",
       "      <td>180.8</td>\n",
       "      <td>10.8</td>\n",
       "      <td>58.4</td>\n",
       "      <td>12.9</td>\n",
       "    </tr>\n",
       "  </tbody>\n",
       "</table>\n",
       "</div>"
      ],
      "text/plain": [
       "   Unnamed: 0     TV  radio  newspaper  sales\n",
       "0           1  230.1   37.8       69.2   22.1\n",
       "1           2   44.5   39.3       45.1   10.4\n",
       "2           3   17.2   45.9       69.3    9.3\n",
       "3           4  151.5   41.3       58.5   18.5\n",
       "4           5  180.8   10.8       58.4   12.9"
      ]
     },
     "execution_count": 15,
     "metadata": {},
     "output_type": "execute_result"
    }
   ],
   "source": [
    "df.head()"
   ]
  },
  {
   "cell_type": "code",
   "execution_count": 16,
   "id": "ca18ffe7",
   "metadata": {},
   "outputs": [
    {
     "data": {
      "text/plain": [
       "Unnamed: 0    0\n",
       "TV            0\n",
       "radio         0\n",
       "newspaper     0\n",
       "sales         0\n",
       "dtype: int64"
      ]
     },
     "execution_count": 16,
     "metadata": {},
     "output_type": "execute_result"
    }
   ],
   "source": [
    "df.isnull().sum()"
   ]
  },
  {
   "cell_type": "code",
   "execution_count": 17,
   "id": "e27a7461",
   "metadata": {},
   "outputs": [
    {
     "data": {
      "text/html": [
       "<div>\n",
       "<style scoped>\n",
       "    .dataframe tbody tr th:only-of-type {\n",
       "        vertical-align: middle;\n",
       "    }\n",
       "\n",
       "    .dataframe tbody tr th {\n",
       "        vertical-align: top;\n",
       "    }\n",
       "\n",
       "    .dataframe thead th {\n",
       "        text-align: right;\n",
       "    }\n",
       "</style>\n",
       "<table border=\"1\" class=\"dataframe\">\n",
       "  <thead>\n",
       "    <tr style=\"text-align: right;\">\n",
       "      <th></th>\n",
       "      <th>Unnamed: 0</th>\n",
       "      <th>TV</th>\n",
       "      <th>radio</th>\n",
       "      <th>newspaper</th>\n",
       "      <th>sales</th>\n",
       "    </tr>\n",
       "  </thead>\n",
       "  <tbody>\n",
       "    <tr>\n",
       "      <th>0</th>\n",
       "      <td>1</td>\n",
       "      <td>230.1</td>\n",
       "      <td>37.8</td>\n",
       "      <td>69.2</td>\n",
       "      <td>22.1</td>\n",
       "    </tr>\n",
       "    <tr>\n",
       "      <th>1</th>\n",
       "      <td>2</td>\n",
       "      <td>44.5</td>\n",
       "      <td>39.3</td>\n",
       "      <td>45.1</td>\n",
       "      <td>10.4</td>\n",
       "    </tr>\n",
       "    <tr>\n",
       "      <th>2</th>\n",
       "      <td>3</td>\n",
       "      <td>17.2</td>\n",
       "      <td>45.9</td>\n",
       "      <td>69.3</td>\n",
       "      <td>9.3</td>\n",
       "    </tr>\n",
       "    <tr>\n",
       "      <th>3</th>\n",
       "      <td>4</td>\n",
       "      <td>151.5</td>\n",
       "      <td>41.3</td>\n",
       "      <td>58.5</td>\n",
       "      <td>18.5</td>\n",
       "    </tr>\n",
       "    <tr>\n",
       "      <th>4</th>\n",
       "      <td>5</td>\n",
       "      <td>180.8</td>\n",
       "      <td>10.8</td>\n",
       "      <td>58.4</td>\n",
       "      <td>12.9</td>\n",
       "    </tr>\n",
       "    <tr>\n",
       "      <th>...</th>\n",
       "      <td>...</td>\n",
       "      <td>...</td>\n",
       "      <td>...</td>\n",
       "      <td>...</td>\n",
       "      <td>...</td>\n",
       "    </tr>\n",
       "    <tr>\n",
       "      <th>195</th>\n",
       "      <td>196</td>\n",
       "      <td>38.2</td>\n",
       "      <td>3.7</td>\n",
       "      <td>13.8</td>\n",
       "      <td>7.6</td>\n",
       "    </tr>\n",
       "    <tr>\n",
       "      <th>196</th>\n",
       "      <td>197</td>\n",
       "      <td>94.2</td>\n",
       "      <td>4.9</td>\n",
       "      <td>8.1</td>\n",
       "      <td>9.7</td>\n",
       "    </tr>\n",
       "    <tr>\n",
       "      <th>197</th>\n",
       "      <td>198</td>\n",
       "      <td>177.0</td>\n",
       "      <td>9.3</td>\n",
       "      <td>6.4</td>\n",
       "      <td>12.8</td>\n",
       "    </tr>\n",
       "    <tr>\n",
       "      <th>198</th>\n",
       "      <td>199</td>\n",
       "      <td>283.6</td>\n",
       "      <td>42.0</td>\n",
       "      <td>66.2</td>\n",
       "      <td>25.5</td>\n",
       "    </tr>\n",
       "    <tr>\n",
       "      <th>199</th>\n",
       "      <td>200</td>\n",
       "      <td>232.1</td>\n",
       "      <td>8.6</td>\n",
       "      <td>8.7</td>\n",
       "      <td>13.4</td>\n",
       "    </tr>\n",
       "  </tbody>\n",
       "</table>\n",
       "<p>200 rows × 5 columns</p>\n",
       "</div>"
      ],
      "text/plain": [
       "     Unnamed: 0     TV  radio  newspaper  sales\n",
       "0             1  230.1   37.8       69.2   22.1\n",
       "1             2   44.5   39.3       45.1   10.4\n",
       "2             3   17.2   45.9       69.3    9.3\n",
       "3             4  151.5   41.3       58.5   18.5\n",
       "4             5  180.8   10.8       58.4   12.9\n",
       "..          ...    ...    ...        ...    ...\n",
       "195         196   38.2    3.7       13.8    7.6\n",
       "196         197   94.2    4.9        8.1    9.7\n",
       "197         198  177.0    9.3        6.4   12.8\n",
       "198         199  283.6   42.0       66.2   25.5\n",
       "199         200  232.1    8.6        8.7   13.4\n",
       "\n",
       "[200 rows x 5 columns]"
      ]
     },
     "execution_count": 17,
     "metadata": {},
     "output_type": "execute_result"
    }
   ],
   "source": [
    "df1 = df.dropna()\n",
    "df1"
   ]
  },
  {
   "cell_type": "code",
   "execution_count": 18,
   "id": "33cead69",
   "metadata": {},
   "outputs": [
    {
     "data": {
      "text/plain": [
       "Unnamed: 0    0\n",
       "TV            0\n",
       "radio         0\n",
       "newspaper     0\n",
       "sales         0\n",
       "dtype: int64"
      ]
     },
     "execution_count": 18,
     "metadata": {},
     "output_type": "execute_result"
    }
   ],
   "source": [
    "df1.isnull().sum()"
   ]
  },
  {
   "cell_type": "code",
   "execution_count": 19,
   "id": "c9962183",
   "metadata": {},
   "outputs": [
    {
     "data": {
      "text/plain": [
       "Unnamed: 0      int64\n",
       "TV            float64\n",
       "radio         float64\n",
       "newspaper     float64\n",
       "sales         float64\n",
       "dtype: object"
      ]
     },
     "execution_count": 19,
     "metadata": {},
     "output_type": "execute_result"
    }
   ],
   "source": [
    "df.dtypes"
   ]
  },
  {
   "cell_type": "code",
   "execution_count": 20,
   "id": "ede8aa54",
   "metadata": {},
   "outputs": [
    {
     "data": {
      "text/plain": [
       "array([22.1, 10.4,  9.3, 18.5, 12.9,  7.2, 11.8, 13.2,  4.8, 10.6,  8.6,\n",
       "       17.4,  9.2,  9.7, 19. , 22.4, 12.5, 24.4, 11.3, 14.6, 18. ,  5.6,\n",
       "       15.5, 12. , 15. , 15.9, 18.9, 10.5, 21.4, 11.9,  9.6,  9.5, 12.8,\n",
       "       25.4, 14.7, 10.1, 21.5, 16.6, 17.1, 20.7,  8.5, 14.9, 23.2, 14.8,\n",
       "       11.4, 10.7, 22.6, 21.2, 20.2, 23.7,  5.5, 23.8, 18.4,  8.1, 24.2,\n",
       "       15.7, 14. , 13.4, 22.3, 18.3, 12.4,  8.8, 11. , 17. ,  8.7,  6.9,\n",
       "       14.2,  5.3, 12.3, 13.6, 21.7, 15.2, 16. , 16.7, 11.2,  7.3, 19.4,\n",
       "       22.2, 11.5, 16.9, 11.7, 17.2, 19.2, 19.8, 21.8, 14.1, 12.6, 12.2,\n",
       "        9.4,  6.6,  7. , 11.6, 19.7, 24.7,  1.6, 12.7,  5.7, 19.6, 10.8,\n",
       "       20.8, 10.9, 20.1, 10.3, 16.1, 15.6,  3.2, 15.3, 14.4, 13.3,  8. ,\n",
       "        8.4, 14.5,  7.6, 27. , 26.2, 17.6, 17.3,  6.7,  9.9,  5.9, 25.5])"
      ]
     },
     "execution_count": 20,
     "metadata": {},
     "output_type": "execute_result"
    }
   ],
   "source": [
    "df1['sales'].unique()"
   ]
  },
  {
   "cell_type": "code",
   "execution_count": 21,
   "id": "0dd33010",
   "metadata": {},
   "outputs": [
    {
     "data": {
      "text/plain": [
       "121"
      ]
     },
     "execution_count": 21,
     "metadata": {},
     "output_type": "execute_result"
    }
   ],
   "source": [
    "df['sales'].nunique()"
   ]
  },
  {
   "cell_type": "code",
   "execution_count": 22,
   "id": "f0cd40ab",
   "metadata": {},
   "outputs": [
    {
     "data": {
      "text/plain": [
       "200"
      ]
     },
     "execution_count": 22,
     "metadata": {},
     "output_type": "execute_result"
    }
   ],
   "source": [
    "df.shape[0]"
   ]
  },
  {
   "cell_type": "code",
   "execution_count": 23,
   "id": "e85fae9e",
   "metadata": {},
   "outputs": [
    {
     "data": {
      "text/plain": [
       "0"
      ]
     },
     "execution_count": 23,
     "metadata": {},
     "output_type": "execute_result"
    }
   ],
   "source": [
    "df.isnull().sum().sum()"
   ]
  },
  {
   "cell_type": "code",
   "execution_count": 24,
   "id": "1c002787",
   "metadata": {},
   "outputs": [
    {
     "data": {
      "text/html": [
       "<div>\n",
       "<style scoped>\n",
       "    .dataframe tbody tr th:only-of-type {\n",
       "        vertical-align: middle;\n",
       "    }\n",
       "\n",
       "    .dataframe tbody tr th {\n",
       "        vertical-align: top;\n",
       "    }\n",
       "\n",
       "    .dataframe thead th {\n",
       "        text-align: right;\n",
       "    }\n",
       "</style>\n",
       "<table border=\"1\" class=\"dataframe\">\n",
       "  <thead>\n",
       "    <tr style=\"text-align: right;\">\n",
       "      <th></th>\n",
       "      <th>Unnamed: 0</th>\n",
       "      <th>TV</th>\n",
       "      <th>radio</th>\n",
       "      <th>newspaper</th>\n",
       "      <th>sales</th>\n",
       "    </tr>\n",
       "  </thead>\n",
       "  <tbody>\n",
       "  </tbody>\n",
       "</table>\n",
       "</div>"
      ],
      "text/plain": [
       "Empty DataFrame\n",
       "Columns: [Unnamed: 0, TV, radio, newspaper, sales]\n",
       "Index: []"
      ]
     },
     "execution_count": 24,
     "metadata": {},
     "output_type": "execute_result"
    }
   ],
   "source": [
    "df.loc[df1['sales'] == \" \"]"
   ]
  },
  {
   "cell_type": "markdown",
   "id": "da66c310",
   "metadata": {},
   "source": [
    "# Visualization of Data Frame"
   ]
  },
  {
   "cell_type": "code",
   "execution_count": 25,
   "id": "f21ca42d",
   "metadata": {},
   "outputs": [],
   "source": [
    "import seaborn as sns"
   ]
  },
  {
   "cell_type": "code",
   "execution_count": 26,
   "id": "a778d2da",
   "metadata": {},
   "outputs": [
    {
     "name": "stdout",
     "output_type": "stream",
     "text": [
      "9.7     5\n",
      "15.9    4\n",
      "11.7    4\n",
      "12.9    4\n",
      "20.7    3\n",
      "       ..\n",
      "25.5    1\n",
      "15.6    1\n",
      "17.6    1\n",
      "3.2     1\n",
      "20.8    1\n",
      "Name: sales, Length: 121, dtype: int64\n"
     ]
    },
    {
     "data": {
      "image/png": "[encoded data removed]",
      "text/plain": [
       "<Figure size 432x288 with 1 Axes>"
      ]
     },
     "metadata": {
      "needs_background": "light"
     },
     "output_type": "display_data"
    }
   ],
   "source": [
    "vis=sns.countplot(x=\"sales\",data=df)\n",
    "print(df[\"sales\"].value_counts())"
   ]
  },
  {
   "cell_type": "code",
   "execution_count": 67,
   "id": "d554e529",
   "metadata": {},
   "outputs": [
    {
     "data": {
      "text/plain": [
       "<seaborn.axisgrid.FacetGrid at 0x188f1d72f40>"
      ]
     },
     "execution_count": 67,
     "metadata": {},
     "output_type": "execute_result"
    },
    {
     "data": {
      "image/png": "[encoded data removed]",
      "text/plain": [
       "<Figure size 360x360 with 1 Axes>"
      ]
     },
     "metadata": {
      "needs_background": "light"
     },
     "output_type": "display_data"
    }
   ],
   "source": [
    "import seaborn as sns\n",
    "\n",
    "sns.displot(df[\"sales\"],kde =True)"
   ]
  },
  {
   "cell_type": "code",
   "execution_count": null,
   "id": "5b0daa06",
   "metadata": {},
   "outputs": [],
   "source": [
    "df.describe()"
   ]
  },
  {
   "cell_type": "code",
   "execution_count": null,
   "id": "52a1836d",
   "metadata": {},
   "outputs": [],
   "source": [
    "import matplotlib.pyplot as plt\n",
    "plt.figure(figsize =(15,7))\n",
    "sns.heatmap(df.corr(), annot=True, linewidths=0.5,linecolor=\"white\",fmt='.2f')"
   ]
  },
  {
   "cell_type": "code",
   "execution_count": null,
   "id": "d5a482b0",
   "metadata": {},
   "outputs": [],
   "source": [
    "df.skew()"
   ]
  },
  {
   "cell_type": "code",
   "execution_count": 68,
   "id": "5d6a0912",
   "metadata": {},
   "outputs": [
    {
     "data": {
      "text/plain": [
       "<seaborn.axisgrid.FacetGrid at 0x188f1d723a0>"
      ]
     },
     "execution_count": 68,
     "metadata": {},
     "output_type": "execute_result"
    },
    {
     "data": {
      "image/png": "[encoded data removed]",
      "text/plain": [
       "<Figure size 360x360 with 1 Axes>"
      ]
     },
     "metadata": {
      "needs_background": "light"
     },
     "output_type": "display_data"
    }
   ],
   "source": [
    "import seaborn as sns\n",
    "\n",
    "sns.displot(df[\"TV\"],kde =True)"
   ]
  },
  {
   "cell_type": "code",
   "execution_count": 69,
   "id": "a835d41c",
   "metadata": {},
   "outputs": [
    {
     "data": {
      "text/plain": [
       "<seaborn.axisgrid.FacetGrid at 0x188f1f3ce80>"
      ]
     },
     "execution_count": 69,
     "metadata": {},
     "output_type": "execute_result"
    },
    {
     "data": {
      "image/png": "[encoded data removed]",
      "text/plain": [
       "<Figure size 360x360 with 1 Axes>"
      ]
     },
     "metadata": {
      "needs_background": "light"
     },
     "output_type": "display_data"
    }
   ],
   "source": [
    "import seaborn as sns\n",
    "\n",
    "sns.displot(df[\"radio\"],kde =True)"
   ]
  },
  {
   "cell_type": "code",
   "execution_count": 70,
   "id": "f16e9c4a",
   "metadata": {},
   "outputs": [
    {
     "data": {
      "text/plain": [
       "<seaborn.axisgrid.FacetGrid at 0x188f2f7d910>"
      ]
     },
     "execution_count": 70,
     "metadata": {},
     "output_type": "execute_result"
    },
    {
     "data": {
      "image/png": "[encoded data removed]",
      "text/plain": [
       "<Figure size 360x360 with 1 Axes>"
      ]
     },
     "metadata": {
      "needs_background": "light"
     },
     "output_type": "display_data"
    }
   ],
   "source": [
    "import seaborn as sns\n",
    "\n",
    "sns.displot(df[\"newspaper\"],kde =True)"
   ]
  },
  {
   "cell_type": "code",
   "execution_count": 71,
   "id": "49cc344a",
   "metadata": {},
   "outputs": [
    {
     "data": {
      "text/html": [
       "<div>\n",
       "<style scoped>\n",
       "    .dataframe tbody tr th:only-of-type {\n",
       "        vertical-align: middle;\n",
       "    }\n",
       "\n",
       "    .dataframe tbody tr th {\n",
       "        vertical-align: top;\n",
       "    }\n",
       "\n",
       "    .dataframe thead th {\n",
       "        text-align: right;\n",
       "    }\n",
       "</style>\n",
       "<table border=\"1\" class=\"dataframe\">\n",
       "  <thead>\n",
       "    <tr style=\"text-align: right;\">\n",
       "      <th></th>\n",
       "      <th>Unnamed: 0</th>\n",
       "      <th>TV</th>\n",
       "      <th>radio</th>\n",
       "      <th>newspaper</th>\n",
       "      <th>sales</th>\n",
       "    </tr>\n",
       "  </thead>\n",
       "  <tbody>\n",
       "    <tr>\n",
       "      <th>count</th>\n",
       "      <td>200.000000</td>\n",
       "      <td>200.000000</td>\n",
       "      <td>200.000000</td>\n",
       "      <td>200.000000</td>\n",
       "      <td>200.000000</td>\n",
       "    </tr>\n",
       "    <tr>\n",
       "      <th>mean</th>\n",
       "      <td>100.500000</td>\n",
       "      <td>147.042500</td>\n",
       "      <td>23.264000</td>\n",
       "      <td>30.554000</td>\n",
       "      <td>14.022500</td>\n",
       "    </tr>\n",
       "    <tr>\n",
       "      <th>std</th>\n",
       "      <td>57.879185</td>\n",
       "      <td>85.854236</td>\n",
       "      <td>14.846809</td>\n",
       "      <td>21.778621</td>\n",
       "      <td>5.217457</td>\n",
       "    </tr>\n",
       "    <tr>\n",
       "      <th>min</th>\n",
       "      <td>1.000000</td>\n",
       "      <td>0.700000</td>\n",
       "      <td>0.000000</td>\n",
       "      <td>0.300000</td>\n",
       "      <td>1.600000</td>\n",
       "    </tr>\n",
       "    <tr>\n",
       "      <th>25%</th>\n",
       "      <td>50.750000</td>\n",
       "      <td>74.375000</td>\n",
       "      <td>9.975000</td>\n",
       "      <td>12.750000</td>\n",
       "      <td>10.375000</td>\n",
       "    </tr>\n",
       "    <tr>\n",
       "      <th>50%</th>\n",
       "      <td>100.500000</td>\n",
       "      <td>149.750000</td>\n",
       "      <td>22.900000</td>\n",
       "      <td>25.750000</td>\n",
       "      <td>12.900000</td>\n",
       "    </tr>\n",
       "    <tr>\n",
       "      <th>75%</th>\n",
       "      <td>150.250000</td>\n",
       "      <td>218.825000</td>\n",
       "      <td>36.525000</td>\n",
       "      <td>45.100000</td>\n",
       "      <td>17.400000</td>\n",
       "    </tr>\n",
       "    <tr>\n",
       "      <th>max</th>\n",
       "      <td>200.000000</td>\n",
       "      <td>296.400000</td>\n",
       "      <td>49.600000</td>\n",
       "      <td>114.000000</td>\n",
       "      <td>27.000000</td>\n",
       "    </tr>\n",
       "  </tbody>\n",
       "</table>\n",
       "</div>"
      ],
      "text/plain": [
       "       Unnamed: 0          TV       radio   newspaper       sales\n",
       "count  200.000000  200.000000  200.000000  200.000000  200.000000\n",
       "mean   100.500000  147.042500   23.264000   30.554000   14.022500\n",
       "std     57.879185   85.854236   14.846809   21.778621    5.217457\n",
       "min      1.000000    0.700000    0.000000    0.300000    1.600000\n",
       "25%     50.750000   74.375000    9.975000   12.750000   10.375000\n",
       "50%    100.500000  149.750000   22.900000   25.750000   12.900000\n",
       "75%    150.250000  218.825000   36.525000   45.100000   17.400000\n",
       "max    200.000000  296.400000   49.600000  114.000000   27.000000"
      ]
     },
     "execution_count": 71,
     "metadata": {},
     "output_type": "execute_result"
    }
   ],
   "source": [
    "df.describe()"
   ]
  },
  {
   "cell_type": "code",
   "execution_count": null,
   "id": "6087b66b",
   "metadata": {},
   "outputs": [],
   "source": [
    "import matplotlib.pyplot as plt\n",
    "plt.figure(figsize =(15,7))\n",
    "sns.heatmap(df.corr(), annot=True, linewidths=0.5,linecolor=\"white\",fmt='.2f')"
   ]
  },
  {
   "cell_type": "code",
   "execution_count": null,
   "id": "588c5470",
   "metadata": {},
   "outputs": [],
   "source": [
    "df.corr()['sales'].sort_values()"
   ]
  },
  {
   "cell_type": "code",
   "execution_count": null,
   "id": "e512b40f",
   "metadata": {},
   "outputs": [],
   "source": [
    "plt.figure(figsize =(12,7))\n",
    "df.corr()['sales'].sort_values(ascending=False).drop(['sales']).plot(kind='bar',color='c')\n",
    "plt.xlabel('Feature',fontsize=14)\n",
    "plt.ylabel('Column with target names',fontsize=18)\n",
    "plt.title('Corelation',fontsize=18)\n",
    "plt.show()"
   ]
  },
  {
   "cell_type": "markdown",
   "id": "fcfb3e0e",
   "metadata": {},
   "source": [
    "# Checking Outliners"
   ]
  },
  {
   "cell_type": "code",
   "execution_count": null,
   "id": "1cf1a229",
   "metadata": {},
   "outputs": [],
   "source": [
    "df.dtypes"
   ]
  },
  {
   "cell_type": "code",
   "execution_count": null,
   "id": "83ce9ebd",
   "metadata": {},
   "outputs": [],
   "source": [
    "df[\"TV\"].plot.box()     "
   ]
  },
  {
   "cell_type": "code",
   "execution_count": null,
   "id": "f5ee0164",
   "metadata": {},
   "outputs": [],
   "source": [
    "df[\"radio\"].plot.box()"
   ]
  },
  {
   "cell_type": "code",
   "execution_count": null,
   "id": "6ab937b6",
   "metadata": {},
   "outputs": [],
   "source": [
    "df[\"newspaper\"].plot.box()"
   ]
  },
  {
   "cell_type": "code",
   "execution_count": null,
   "id": "3bff43a0",
   "metadata": {},
   "outputs": [],
   "source": [
    "df[\"sales\"].plot.box()"
   ]
  },
  {
   "cell_type": "code",
   "execution_count": null,
   "id": "b2e72381",
   "metadata": {},
   "outputs": [],
   "source": [
    "Outliners Removal"
   ]
  },
  {
   "cell_type": "code",
   "execution_count": null,
   "id": "628e03bc",
   "metadata": {},
   "outputs": [],
   "source": [
    "df.shape"
   ]
  },
  {
   "cell_type": "code",
   "execution_count": null,
   "id": "1b1205a1",
   "metadata": {},
   "outputs": [],
   "source": [
    "from scipy.stats import zscore\n",
    "import numpy as np\n",
    "z=np.abs(zscore(df))\n",
    "threshold =3\n",
    "np.where(z>3)"
   ]
  },
  {
   "cell_type": "code",
   "execution_count": null,
   "id": "b3ee79ad",
   "metadata": {},
   "outputs": [],
   "source": [
    "df_new = df[(z<3).all(axis=1)]\n",
    "df_new"
   ]
  },
  {
   "cell_type": "code",
   "execution_count": null,
   "id": "0d01d43c",
   "metadata": {},
   "outputs": [],
   "source": [
    "Percentage Loss of Data "
   ]
  },
  {
   "cell_type": "code",
   "execution_count": null,
   "id": "c4a34418",
   "metadata": {},
   "outputs": [],
   "source": [
    "DataLoss= ((200-198)/200)*100"
   ]
  },
  {
   "cell_type": "code",
   "execution_count": null,
   "id": "b1a30414",
   "metadata": {},
   "outputs": [],
   "source": [
    "DataLoss"
   ]
  },
  {
   "cell_type": "markdown",
   "id": "20a50112",
   "metadata": {},
   "source": [
    "Seperating columns into features and target\n"
   ]
  },
  {
   "cell_type": "code",
   "execution_count": 28,
   "id": "3385af5d",
   "metadata": {},
   "outputs": [],
   "source": [
    "features = df.drop(\"sales\",axis= 1)\n",
    "target = df[\"sales\"]"
   ]
  },
  {
   "cell_type": "code",
   "execution_count": 29,
   "id": "5d85bbd5",
   "metadata": {},
   "outputs": [],
   "source": [
    "from sklearn.preprocessing import MinMaxScaler\n",
    "mns =   MinMaxScaler()\n",
    "from sklearn.linear_model import LinearRegression\n",
    "lr = LinearRegression()\n",
    "from sklearn.metrics import r2_score\n",
    "from sklearn.model_selection import train_test_split"
   ]
  },
  {
   "cell_type": "code",
   "execution_count": 30,
   "id": "55dc74d8",
   "metadata": {},
   "outputs": [],
   "source": [
    "import warnings\n",
    "warnings.filterwarnings('ignore')"
   ]
  },
  {
   "cell_type": "code",
   "execution_count": 31,
   "id": "61f95e05",
   "metadata": {},
   "outputs": [
    {
     "name": "stdout",
     "output_type": "stream",
     "text": [
      "At random state0  :- 0.9073274552252846\n",
      "At random state0 : 0.856480214327925\n",
      "\n",
      "\n",
      "At random state1  :- 0.8959391993971187\n",
      "At random state1 : 0.8928781912093181\n",
      "\n",
      "\n",
      "At random state2  :- 0.9152614531156523\n",
      "At random state2 : 0.7570326409482367\n",
      "\n",
      "\n",
      "At random state3  :- 0.8931443451313652\n",
      "At random state3 : 0.9134449674582059\n",
      "\n",
      "\n",
      "At random state4  :- 0.8911682084041699\n",
      "At random state4 : 0.9084934434517352\n",
      "\n",
      "\n",
      "At random state5  :- 0.89570620107301\n",
      "At random state5 : 0.89851958363058\n",
      "\n",
      "\n",
      "At random state6  :- 0.8915582028345674\n",
      "At random state6 : 0.921941222913581\n",
      "\n",
      "\n",
      "At random state7  :- 0.8929171093102488\n",
      "At random state7 : 0.9094946118605033\n",
      "\n",
      "\n",
      "At random state8  :- 0.9089671598668994\n",
      "At random state8 : 0.8454524606304807\n",
      "\n",
      "\n",
      "At random state9  :- 0.8897879071515497\n",
      "At random state9 : 0.9254791165935141\n",
      "\n",
      "\n",
      "At random state10  :- 0.9210064755430887\n",
      "At random state10 : 0.8350889287403334\n",
      "\n",
      "\n",
      "At random state11  :- 0.9111623809104603\n",
      "At random state11 : 0.8449820092996336\n",
      "\n",
      "\n",
      "At random state12  :- 0.8918075499129059\n",
      "At random state12 : 0.9110007582766769\n",
      "\n",
      "\n",
      "At random state13  :- 0.887016186914774\n",
      "At random state13 : 0.9305870148904292\n",
      "\n",
      "\n",
      "At random state14  :- 0.9086355983008996\n",
      "At random state14 : 0.8549475163509118\n",
      "\n",
      "\n",
      "At random state15  :- 0.8938079254185115\n",
      "At random state15 : 0.9055692412310968\n",
      "\n",
      "\n",
      "At random state16  :- 0.8926643673594483\n",
      "At random state16 : 0.9179051167419227\n",
      "\n",
      "\n",
      "At random state17  :- 0.9116703196823303\n",
      "At random state17 : 0.8260144163842627\n",
      "\n",
      "\n",
      "At random state18  :- 0.9058537276169787\n",
      "At random state18 : 0.8692586836034338\n",
      "\n",
      "\n",
      "At random state19  :- 0.8936964884458823\n",
      "At random state19 : 0.9035293150713195\n",
      "\n",
      "\n",
      "At random state20  :- 0.8940674217997686\n",
      "At random state20 : 0.9028631545455051\n",
      "\n",
      "\n",
      "At random state21  :- 0.8890540600770627\n",
      "At random state21 : 0.9146569039385174\n",
      "\n",
      "\n",
      "At random state22  :- 0.8899973381223143\n",
      "At random state22 : 0.9182082402965809\n",
      "\n",
      "\n",
      "At random state23  :- 0.8921767001074105\n",
      "At random state23 : 0.9099324713476881\n",
      "\n",
      "\n",
      "At random state24  :- 0.8948669853718487\n",
      "At random state24 : 0.9031175758867456\n",
      "\n",
      "\n",
      "At random state25  :- 0.901084029469538\n",
      "At random state25 : 0.8720389628792304\n",
      "\n",
      "\n",
      "At random state26  :- 0.9008142925470226\n",
      "At random state26 : 0.8660817826604932\n",
      "\n",
      "\n",
      "At random state27  :- 0.8949084508267352\n",
      "At random state27 : 0.9055839757493602\n",
      "\n",
      "\n",
      "At random state28  :- 0.8997566457323917\n",
      "At random state28 : 0.882889952375476\n",
      "\n",
      "\n",
      "At random state29  :- 0.8897990754621425\n",
      "At random state29 : 0.9121642709962423\n",
      "\n",
      "\n",
      "At random state30  :- 0.8935867104133169\n",
      "At random state30 : 0.9070725716744538\n",
      "\n",
      "\n",
      "At random state31  :- 0.8861151331622692\n",
      "At random state31 : 0.9274231828872666\n",
      "\n",
      "\n",
      "At random state32  :- 0.9172993061976911\n",
      "At random state32 : 0.7769624816211904\n",
      "\n",
      "\n",
      "At random state33  :- 0.896294422055296\n",
      "At random state33 : 0.8938166042095906\n",
      "\n",
      "\n",
      "At random state34  :- 0.8970815554113069\n",
      "At random state34 : 0.8919648426080482\n",
      "\n",
      "\n",
      "At random state35  :- 0.9149816013369177\n",
      "At random state35 : 0.786373587730015\n",
      "\n",
      "\n",
      "At random state36  :- 0.8887390025066806\n",
      "At random state36 : 0.9265569630488937\n",
      "\n",
      "\n",
      "At random state37  :- 0.8998734924150504\n",
      "At random state37 : 0.8832381464120009\n",
      "\n",
      "\n",
      "At random state38  :- 0.8972914103912516\n",
      "At random state38 : 0.8908696135503188\n",
      "\n",
      "\n",
      "At random state39  :- 0.9002556473795614\n",
      "At random state39 : 0.8690558832908658\n",
      "\n",
      "\n",
      "At random state40  :- 0.9204058033654225\n",
      "At random state40 : 0.7965905680536843\n",
      "\n",
      "\n",
      "At random state41  :- 0.9006927327079468\n",
      "At random state41 : 0.8820470614688671\n",
      "\n",
      "\n",
      "At random state42  :- 0.8957553000540606\n",
      "At random state42 : 0.8986489151417081\n",
      "\n",
      "\n",
      "At random state43  :- 0.8886405668646471\n",
      "At random state43 : 0.9279997802005557\n",
      "\n",
      "\n",
      "At random state44  :- 0.9065906284233083\n",
      "At random state44 : 0.8309225032852494\n",
      "\n",
      "\n",
      "At random state45  :- 0.8963875424029035\n",
      "At random state45 : 0.8915316806090338\n",
      "\n",
      "\n",
      "At random state46  :- 0.9036235036433334\n",
      "At random state46 : 0.8503383755246359\n",
      "\n",
      "\n",
      "At random state47  :- 0.8988386546103042\n",
      "At random state47 : 0.8849834045904889\n",
      "\n",
      "\n",
      "At random state48  :- 0.890542166403924\n",
      "At random state48 : 0.9189262097926163\n",
      "\n",
      "\n",
      "At random state49  :- 0.913865852180709\n",
      "At random state49 : 0.8231216329494812\n",
      "\n",
      "\n",
      "At random state50  :- 0.9013718398317787\n",
      "At random state50 : 0.8476464379397719\n",
      "\n",
      "\n",
      "At random state51  :- 0.8936175989328149\n",
      "At random state51 : 0.9076546711720634\n",
      "\n",
      "\n",
      "At random state52  :- 0.9018604295382086\n",
      "At random state52 : 0.8807089729330375\n",
      "\n",
      "\n",
      "At random state53  :- 0.888857938922339\n",
      "At random state53 : 0.9251773581549692\n",
      "\n",
      "\n",
      "At random state54  :- 0.8920887237166686\n",
      "At random state54 : 0.9172149618279113\n",
      "\n",
      "\n",
      "At random state55  :- 0.894930160761274\n",
      "At random state55 : 0.8978864477773828\n",
      "\n",
      "\n",
      "At random state56  :- 0.8989201587327643\n",
      "At random state56 : 0.888224634953456\n",
      "\n",
      "\n",
      "At random state57  :- 0.8825879766148067\n",
      "At random state57 : 0.9408099432427623\n",
      "\n",
      "\n",
      "At random state58  :- 0.9127355018257423\n",
      "At random state58 : 0.8401442189987403\n",
      "\n",
      "\n",
      "At random state59  :- 0.8893758445368163\n",
      "At random state59 : 0.9250247055288898\n",
      "\n",
      "\n",
      "At random state60  :- 0.8929488169971975\n",
      "At random state60 : 0.9074416119003319\n",
      "\n",
      "\n",
      "At random state61  :- 0.8995558396715964\n",
      "At random state61 : 0.878101642882558\n",
      "\n",
      "\n",
      "At random state62  :- 0.9120188082159291\n",
      "At random state62 : 0.8418326614272956\n",
      "\n",
      "\n",
      "At random state63  :- 0.8951057681539462\n",
      "At random state63 : 0.9005058624602784\n",
      "\n",
      "\n",
      "At random state64  :- 0.8977795664080803\n",
      "At random state64 : 0.8817995595827229\n",
      "\n",
      "\n",
      "At random state65  :- 0.8969891176837769\n",
      "At random state65 : 0.8942556589953752\n",
      "\n",
      "\n",
      "At random state66  :- 0.8992060099166295\n",
      "At random state66 : 0.8838295132236418\n",
      "\n",
      "\n",
      "At random state67  :- 0.8995954079489461\n",
      "At random state67 : 0.8813062371563375\n",
      "\n",
      "\n",
      "At random state68  :- 0.9004472797727481\n",
      "At random state68 : 0.8669862566176891\n",
      "\n",
      "\n",
      "At random state69  :- 0.8870476050134384\n",
      "At random state69 : 0.9233095015758521\n",
      "\n",
      "\n",
      "At random state70  :- 0.8862589587247461\n",
      "At random state70 : 0.9261899619072469\n",
      "\n",
      "\n",
      "At random state71  :- 0.9170792242159567\n",
      "At random state71 : 0.8214330315197064\n",
      "\n",
      "\n",
      "At random state72  :- 0.8939630309765105\n",
      "At random state72 : 0.9063814288042916\n",
      "\n",
      "\n",
      "At random state73  :- 0.9081745525874727\n",
      "At random state73 : 0.838245651416483\n",
      "\n",
      "\n",
      "At random state74  :- 0.8980451797105264\n",
      "At random state74 : 0.8802918295913446\n",
      "\n",
      "\n",
      "At random state75  :- 0.8944097316106918\n",
      "At random state75 : 0.9074740863261651\n",
      "\n",
      "\n",
      "At random state76  :- 0.9092071576699313\n",
      "At random state76 : 0.7531289748171518\n",
      "\n",
      "\n",
      "At random state77  :- 0.8859821552154192\n",
      "At random state77 : 0.937956975915543\n",
      "\n",
      "\n",
      "At random state78  :- 0.8957614044756782\n",
      "At random state78 : 0.9027962436962178\n",
      "\n",
      "\n",
      "At random state79  :- 0.8918809749821501\n",
      "At random state79 : 0.9039590138288892\n",
      "\n",
      "\n",
      "At random state80  :- 0.9169729628077916\n",
      "At random state80 : 0.8002879936768352\n",
      "\n",
      "\n",
      "At random state81  :- 0.9035712487248864\n",
      "At random state81 : 0.8609698767855934\n",
      "\n",
      "\n",
      "At random state82  :- 0.9154275126468338\n",
      "At random state82 : 0.8013214526563002\n",
      "\n",
      "\n",
      "At random state83  :- 0.8842230653829803\n",
      "At random state83 : 0.936533183297641\n",
      "\n",
      "\n",
      "At random state84  :- 0.8954723130793452\n",
      "At random state84 : 0.8982625547501828\n",
      "\n",
      "\n",
      "At random state85  :- 0.9086556153894079\n",
      "At random state85 : 0.8439750044569613\n",
      "\n",
      "\n",
      "At random state86  :- 0.8941933141983467\n",
      "At random state86 : 0.9101136416354886\n",
      "\n",
      "\n",
      "At random state87  :- 0.9120854281966964\n",
      "At random state87 : 0.7590318344044371\n",
      "\n",
      "\n",
      "At random state88  :- 0.909607024863585\n",
      "At random state88 : 0.8387190488012204\n",
      "\n",
      "\n",
      "At random state89  :- 0.9007733237783739\n",
      "At random state89 : 0.8715218402293794\n",
      "\n",
      "\n",
      "At random state90  :- 0.9035155910972225\n",
      "At random state90 : 0.8470679956762829\n",
      "\n",
      "\n",
      "At random state91  :- 0.8874503790642361\n",
      "At random state91 : 0.9040620243534963\n",
      "\n",
      "\n",
      "At random state92  :- 0.879228484038034\n",
      "At random state92 : 0.950983339269277\n",
      "\n",
      "\n",
      "At random state93  :- 0.8934257355566151\n",
      "At random state93 : 0.9092789029786972\n",
      "\n",
      "\n",
      "At random state94  :- 0.9084405371218475\n",
      "At random state94 : 0.8559756457570239\n",
      "\n",
      "\n",
      "At random state95  :- 0.8935661522674359\n",
      "At random state95 : 0.8951483094107863\n",
      "\n",
      "\n",
      "At random state96  :- 0.9038616523881903\n",
      "At random state96 : 0.858009872088536\n",
      "\n",
      "\n",
      "At random state97  :- 0.8906962083562392\n",
      "At random state97 : 0.907763020464028\n",
      "\n",
      "\n",
      "At random state98  :- 0.8820113423343215\n",
      "At random state98 : 0.9393724951506759\n",
      "\n",
      "\n",
      "At random state99  :- 0.8906644266587815\n",
      "At random state99 : 0.9201416862699034\n",
      "\n",
      "\n"
     ]
    }
   ],
   "source": [
    "for i in range(0,100):\n",
    "        features_train,features_test,target_train,target_test=train_test_split(features,target,test_size=0.2,random_state=i)\n",
    "        lr.fit(features_train,target_train)\n",
    "        pred_train = lr.predict(features_train)\n",
    "        pred_test = lr.predict(features_test)\n",
    "        print(f\"At random state{i}  :- {r2_score(target_train,pred_train)}\")\n",
    "        print(f\"At random state{i} : {r2_score(target_test,pred_test)}\")\n",
    "        print(\"\\n\")"
   ]
  },
  {
   "cell_type": "code",
   "execution_count": 32,
   "id": "a82657d0",
   "metadata": {},
   "outputs": [],
   "source": [
    "features_train,features_test,target_train,target_test=train_test_split(features,target,test_size=0.2,random_state=12)"
   ]
  },
  {
   "cell_type": "markdown",
   "id": "ac9cdbee",
   "metadata": {},
   "source": [
    "Train the model"
   ]
  },
  {
   "cell_type": "code",
   "execution_count": 33,
   "id": "50eae562",
   "metadata": {},
   "outputs": [
    {
     "data": {
      "text/plain": [
       "LinearRegression()"
      ]
     },
     "execution_count": 33,
     "metadata": {},
     "output_type": "execute_result"
    }
   ],
   "source": [
    "lr.fit(features_train,target_train)"
   ]
  },
  {
   "cell_type": "code",
   "execution_count": 34,
   "id": "1b3cbc86",
   "metadata": {},
   "outputs": [],
   "source": [
    "pred_test=lr.predict(features_test)"
   ]
  },
  {
   "cell_type": "code",
   "execution_count": 35,
   "id": "34dcdefe",
   "metadata": {},
   "outputs": [
    {
     "name": "stdout",
     "output_type": "stream",
     "text": [
      "0.9110007582766769\n"
     ]
    }
   ],
   "source": [
    "print (r2_score(target_test,pred_test))"
   ]
  },
  {
   "cell_type": "markdown",
   "id": "7a783dae",
   "metadata": {},
   "source": [
    "# Cross Validation of the model to overcome overfitting and underfitting"
   ]
  },
  {
   "cell_type": "code",
   "execution_count": 36,
   "id": "45edfc5e",
   "metadata": {},
   "outputs": [
    {
     "name": "stdout",
     "output_type": "stream",
     "text": [
      "At cross fold 9 the cv score is 0.879704245100306 and accuracy score for training is -1.1005688286388935 and accuracy for testing is -1.1005688286388935\n",
      "\n",
      "\n"
     ]
    }
   ],
   "source": [
    "Train_accuracy = r2_score(target_train,pred_train)\n",
    "Test_accuracy = r2_score(target_train,pred_train)\n",
    "\n",
    "from sklearn.model_selection import cross_val_score\n",
    "for j in range (2,10):\n",
    "\n",
    "    cv_score = cross_val_score(lr,features,target ,cv=j )\n",
    "    cv_mean = cv_score.mean()\n",
    "print(f\"At cross fold {j} the cv score is {cv_mean} and accuracy score for training is {Train_accuracy} and accuracy for testing is {Test_accuracy}\")\n",
    "print(\"\\n\")"
   ]
  },
  {
   "cell_type": "code",
   "execution_count": 37,
   "id": "8bbda67a",
   "metadata": {},
   "outputs": [
    {
     "data": {
      "image/png": "[encoded data removed]",
      "text/plain": [
       "<Figure size 576x432 with 1 Axes>"
      ]
     },
     "metadata": {
      "needs_background": "light"
     },
     "output_type": "display_data"
    }
   ],
   "source": [
    "import matplotlib.pyplot as plt\n",
    "plt.figure(figsize =(8,6))\n",
    "plt.scatter(x=target_test,y=pred_test,color='b')\n",
    "plt.plot(target_test,target_test,color='r')\n",
    "plt.xlabel('Actual Sales' ,fontsize=14)\n",
    "plt.ylabel('Predicted Sales' ,fontsize=14)\n",
    "plt.title('Linear regression' ,fontsize=18)\n",
    "plt.show()"
   ]
  },
  {
   "cell_type": "markdown",
   "id": "151984aa",
   "metadata": {},
   "source": [
    "# Regulariztion"
   ]
  },
  {
   "cell_type": "code",
   "execution_count": 38,
   "id": "a85dbcd9",
   "metadata": {},
   "outputs": [],
   "source": [
    "from sklearn.model_selection import GridSearchCV\n",
    "from sklearn.model_selection import cross_val_score\n",
    "import warnings\n",
    "warnings.filterwarnings('ignore')"
   ]
  },
  {
   "cell_type": "code",
   "execution_count": 39,
   "id": "06b34183",
   "metadata": {},
   "outputs": [
    {
     "name": "stdout",
     "output_type": "stream",
     "text": [
      "{'alpha': 0.01, 'random_state': 0}\n"
     ]
    }
   ],
   "source": [
    "from sklearn.linear_model import Lasso\n",
    "\n",
    "parameters = {'alpha':[.0001,.001,.01,.1,1,10],\n",
    "            'random_state':list(range(0,10))}\n",
    "ls= Lasso()\n",
    "clf=GridSearchCV(ls,parameters)\n",
    "clf.fit(features_train,target_train)\n",
    "\n",
    "print(clf.best_params_)"
   ]
  },
  {
   "cell_type": "markdown",
   "id": "21450393",
   "metadata": {},
   "source": [
    "# model training"
   ]
  },
  {
   "cell_type": "code",
   "execution_count": 40,
   "id": "8a576a66",
   "metadata": {},
   "outputs": [
    {
     "data": {
      "text/plain": [
       "89.13861980626946"
      ]
     },
     "execution_count": 40,
     "metadata": {},
     "output_type": "execute_result"
    }
   ],
   "source": [
    "ls= Lasso(alpha=1,random_state=0)\n",
    "ls.fit(features_train,target_train)\n",
    "ls_score_training = ls.score(features_train,target_train)\n",
    "pred_ls = ls.predict(features_test)\n",
    "ls_score_training*100"
   ]
  },
  {
   "cell_type": "code",
   "execution_count": 41,
   "id": "86ae2397",
   "metadata": {},
   "outputs": [
    {
     "data": {
      "text/plain": [
       "91.31785872237904"
      ]
     },
     "execution_count": 41,
     "metadata": {},
     "output_type": "execute_result"
    }
   ],
   "source": [
    "lss= r2_score(target_test,pred_ls)\n",
    "lss*100"
   ]
  },
  {
   "cell_type": "code",
   "execution_count": 42,
   "id": "4c876eb0",
   "metadata": {},
   "outputs": [],
   "source": [
    "pred_ls = ls.predict (features_test)"
   ]
  },
  {
   "cell_type": "code",
   "execution_count": 48,
   "id": "b1add4fd",
   "metadata": {},
   "outputs": [
    {
     "data": {
      "text/plain": [
       "89.20846196072324"
      ]
     },
     "execution_count": 48,
     "metadata": {},
     "output_type": "execute_result"
    }
   ],
   "source": [
    "cv_score = cross_val_score(ls,features,target ,cv=3)\n",
    "cv_mean = cv_score.mean()\n",
    "cv_mean *100\n"
   ]
  },
  {
   "cell_type": "code",
   "execution_count": 49,
   "id": "a7ff3d99",
   "metadata": {},
   "outputs": [
    {
     "name": "stdout",
     "output_type": "stream",
     "text": [
      "{'criterion': 'mse', 'max_features': 'auto'}\n"
     ]
    }
   ],
   "source": [
    "from sklearn.model_selection import GridSearchCV\n",
    "from sklearn.ensemble import RandomForestRegressor\n",
    "\n",
    "parameters = {'criterion':['mse','mae'],'max_features':[\"auto\",\"sqrt\",\"log2\"]}\n",
    "rf=RandomForestRegressor()\n",
    "clf = GridSearchCV(rf,parameters)\n",
    "clf.fit(features_train,target_train)\n",
    "\n",
    "print (clf.best_params_)\n"
   ]
  },
  {
   "cell_type": "code",
   "execution_count": 51,
   "id": "489f6d8a",
   "metadata": {},
   "outputs": [
    {
     "name": "stdout",
     "output_type": "stream",
     "text": [
      "R2 score  97.99883333035463\n",
      "cross validation score 97.25588035761392\n"
     ]
    }
   ],
   "source": [
    "rf=RandomForestRegressor(criterion=\"mae\",max_features=\"auto\")\n",
    "rf.fit(features_train,target_train)\n",
    "rf.score (features_train,target_train)\n",
    "pred_decission=rf.predict(features_test)\n",
    "\n",
    "rfs = r2_score(target_test,pred_decission)\n",
    "print('R2 score ',rfs*100)\n",
    "\n",
    "rfscore = cross_val_score(rf,features,target,cv=5)\n",
    "rfc =rfscore.mean()\n",
    "print ('cross validation score',rfc*100)"
   ]
  },
  {
   "cell_type": "code",
   "execution_count": null,
   "id": "3b40f56c",
   "metadata": {},
   "outputs": [],
   "source": [
    "We are getting model accuracy as 98 % around and the Cross validation score as 98 % which shows that our model is performing average."
   ]
  },
  {
   "cell_type": "markdown",
   "id": "32b4cac5",
   "metadata": {},
   "source": [
    "# Conclution"
   ]
  },
  {
   "cell_type": "code",
   "execution_count": 53,
   "id": "bff08f7d",
   "metadata": {},
   "outputs": [
    {
     "name": "stdout",
     "output_type": "stream",
     "text": [
      "97.99883333035463\n"
     ]
    }
   ],
   "source": [
    "import pickle\n",
    "filename='churn.pkl'\n",
    "pickle.dump(rf,open(filename,'wb'))\n",
    "\n",
    "loaded_model=pickle.load(open('churn.pkl','rb'))\n",
    "result = loaded_model.score(features_test,target_test)\n",
    "print(result*100)"
   ]
  },
  {
   "cell_type": "code",
   "execution_count": 62,
   "id": "0d95e9d8",
   "metadata": {},
   "outputs": [],
   "source": [
    "conclusion = pd.DataFrame([loaded_model.predict(features_test)[:],pred_decission[:]],index=[\"Predicted\",\"Original\"])\n"
   ]
  },
  {
   "cell_type": "code",
   "execution_count": 65,
   "id": "fbec497d",
   "metadata": {},
   "outputs": [
    {
     "data": {
      "text/html": [
       "<div>\n",
       "<style scoped>\n",
       "    .dataframe tbody tr th:only-of-type {\n",
       "        vertical-align: middle;\n",
       "    }\n",
       "\n",
       "    .dataframe tbody tr th {\n",
       "        vertical-align: top;\n",
       "    }\n",
       "\n",
       "    .dataframe thead th {\n",
       "        text-align: right;\n",
       "    }\n",
       "</style>\n",
       "<table border=\"1\" class=\"dataframe\">\n",
       "  <thead>\n",
       "    <tr style=\"text-align: right;\">\n",
       "      <th></th>\n",
       "      <th>0</th>\n",
       "      <th>1</th>\n",
       "      <th>2</th>\n",
       "      <th>3</th>\n",
       "      <th>4</th>\n",
       "      <th>5</th>\n",
       "      <th>6</th>\n",
       "      <th>7</th>\n",
       "      <th>8</th>\n",
       "      <th>9</th>\n",
       "      <th>...</th>\n",
       "      <th>30</th>\n",
       "      <th>31</th>\n",
       "      <th>32</th>\n",
       "      <th>33</th>\n",
       "      <th>34</th>\n",
       "      <th>35</th>\n",
       "      <th>36</th>\n",
       "      <th>37</th>\n",
       "      <th>38</th>\n",
       "      <th>39</th>\n",
       "    </tr>\n",
       "  </thead>\n",
       "  <tbody>\n",
       "    <tr>\n",
       "      <th>Predicted</th>\n",
       "      <td>15.442</td>\n",
       "      <td>8.769</td>\n",
       "      <td>6.623</td>\n",
       "      <td>12.128</td>\n",
       "      <td>12.716</td>\n",
       "      <td>16.992</td>\n",
       "      <td>24.234</td>\n",
       "      <td>9.725</td>\n",
       "      <td>12.629</td>\n",
       "      <td>13.202</td>\n",
       "      <td>...</td>\n",
       "      <td>11.265</td>\n",
       "      <td>25.316</td>\n",
       "      <td>16.488</td>\n",
       "      <td>21.326</td>\n",
       "      <td>6.422</td>\n",
       "      <td>20.951</td>\n",
       "      <td>13.815</td>\n",
       "      <td>22.684</td>\n",
       "      <td>11.49</td>\n",
       "      <td>7.099</td>\n",
       "    </tr>\n",
       "    <tr>\n",
       "      <th>Original</th>\n",
       "      <td>15.442</td>\n",
       "      <td>8.769</td>\n",
       "      <td>6.623</td>\n",
       "      <td>12.128</td>\n",
       "      <td>12.716</td>\n",
       "      <td>16.992</td>\n",
       "      <td>24.234</td>\n",
       "      <td>9.725</td>\n",
       "      <td>12.629</td>\n",
       "      <td>13.202</td>\n",
       "      <td>...</td>\n",
       "      <td>11.265</td>\n",
       "      <td>25.316</td>\n",
       "      <td>16.488</td>\n",
       "      <td>21.326</td>\n",
       "      <td>6.422</td>\n",
       "      <td>20.951</td>\n",
       "      <td>13.815</td>\n",
       "      <td>22.684</td>\n",
       "      <td>11.49</td>\n",
       "      <td>7.099</td>\n",
       "    </tr>\n",
       "  </tbody>\n",
       "</table>\n",
       "<p>2 rows × 40 columns</p>\n",
       "</div>"
      ],
      "text/plain": [
       "               0      1      2       3       4       5       6      7   \\\n",
       "Predicted  15.442  8.769  6.623  12.128  12.716  16.992  24.234  9.725   \n",
       "Original   15.442  8.769  6.623  12.128  12.716  16.992  24.234  9.725   \n",
       "\n",
       "               8       9   ...      30      31      32      33     34      35  \\\n",
       "Predicted  12.629  13.202  ...  11.265  25.316  16.488  21.326  6.422  20.951   \n",
       "Original   12.629  13.202  ...  11.265  25.316  16.488  21.326  6.422  20.951   \n",
       "\n",
       "               36      37     38     39  \n",
       "Predicted  13.815  22.684  11.49  7.099  \n",
       "Original   13.815  22.684  11.49  7.099  \n",
       "\n",
       "[2 rows x 40 columns]"
      ]
     },
     "execution_count": 65,
     "metadata": {},
     "output_type": "execute_result"
    }
   ],
   "source": [
    "conclusion"
   ]
  },
  {
   "cell_type": "code",
   "execution_count": null,
   "id": "7cca3c8b",
   "metadata": {},
   "outputs": [],
   "source": []
  }
 ],
 "metadata": {
  "kernelspec": {
   "display_name": "Python 3",
   "language": "python",
   "name": "python3"
  },
  "language_info": {
   "codemirror_mode": {
    "name": "ipython",
    "version": 3
   },
   "file_extension": ".py",
   "mimetype": "text/x-python",
   "name": "python",
   "nbconvert_exporter": "python",
   "pygments_lexer": "ipython3",
   "version": "3.8.8"
  }
 },
 "nbformat": 4,
 "nbformat_minor": 5
}
